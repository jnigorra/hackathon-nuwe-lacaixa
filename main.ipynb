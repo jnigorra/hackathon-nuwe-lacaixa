{
 "cells": [
  {
   "cell_type": "markdown",
   "id": "c17bee95-066b-4492-81e8-04b775c960fc",
   "metadata": {},
   "source": [
    "# HACKATHON CAIXABANK TECH NUWE\n",
    "\n",
    "Nombre: Joan Nigorra Barceló\n",
    "\n",
    "Alias: Jonkai\n",
    "\n",
    "Email: jnigorra@gmail.com\n",
    "\n",
    "LinkedIn: https://www.linkedin.com/in/jnigorra/"
   ]
  },
  {
   "cell_type": "code",
   "execution_count": 19,
   "id": "580e299c-1fdd-40a1-9731-7d18cad79a1d",
   "metadata": {},
   "outputs": [],
   "source": [
    "import numpy as np\n",
    "import pandas as pd\n",
    "from sklearn.model_selection import train_test_split\n",
    "from sklearn.linear_model import LinearRegression\n",
    "import matplotlib.pyplot as plt\n",
    "import datetime as dt\n",
    "import urllib.request, json\n",
    "import os\n",
    "import tensorflow as tf\n",
    "from sklearn.preprocessing import MinMaxScaler\n",
    "plt.style.use('bmh')"
   ]
  },
  {
   "cell_type": "code",
   "execution_count": 5,
   "id": "7526d3d7-6c7b-4e4f-bb09-0e2c8c82ce07",
   "metadata": {},
   "outputs": [
    {
     "name": "stdout",
     "output_type": "stream",
     "text": [
      "The shape of our dataframe is: (6554, 8)\n"
     ]
    },
    {
     "data": {
      "text/html": [
       "<div>\n",
       "<style scoped>\n",
       "    .dataframe tbody tr th:only-of-type {\n",
       "        vertical-align: middle;\n",
       "    }\n",
       "\n",
       "    .dataframe tbody tr th {\n",
       "        vertical-align: top;\n",
       "    }\n",
       "\n",
       "    .dataframe thead th {\n",
       "        text-align: right;\n",
       "    }\n",
       "</style>\n",
       "<table border=\"1\" class=\"dataframe\">\n",
       "  <thead>\n",
       "    <tr style=\"text-align: right;\">\n",
       "      <th></th>\n",
       "      <th>Date</th>\n",
       "      <th>Open</th>\n",
       "      <th>High</th>\n",
       "      <th>Low</th>\n",
       "      <th>Close</th>\n",
       "      <th>Adj Close</th>\n",
       "      <th>Volume</th>\n",
       "      <th>Target</th>\n",
       "    </tr>\n",
       "  </thead>\n",
       "  <tbody>\n",
       "    <tr>\n",
       "      <th>0</th>\n",
       "      <td>1994-01-03</td>\n",
       "      <td>3615.199951</td>\n",
       "      <td>3654.699951</td>\n",
       "      <td>3581.000000</td>\n",
       "      <td>3654.500000</td>\n",
       "      <td>3654.496338</td>\n",
       "      <td>0.0</td>\n",
       "      <td>0</td>\n",
       "    </tr>\n",
       "    <tr>\n",
       "      <th>1</th>\n",
       "      <td>1994-01-04</td>\n",
       "      <td>3654.500000</td>\n",
       "      <td>3675.500000</td>\n",
       "      <td>3625.100098</td>\n",
       "      <td>3630.300049</td>\n",
       "      <td>3630.296387</td>\n",
       "      <td>0.0</td>\n",
       "      <td>1</td>\n",
       "    </tr>\n",
       "    <tr>\n",
       "      <th>2</th>\n",
       "      <td>1994-01-05</td>\n",
       "      <td>3625.199951</td>\n",
       "      <td>3625.199951</td>\n",
       "      <td>3583.399902</td>\n",
       "      <td>3621.199951</td>\n",
       "      <td>3621.196289</td>\n",
       "      <td>0.0</td>\n",
       "      <td>1</td>\n",
       "    </tr>\n",
       "    <tr>\n",
       "      <th>3</th>\n",
       "      <td>1994-01-06</td>\n",
       "      <td>NaN</td>\n",
       "      <td>NaN</td>\n",
       "      <td>NaN</td>\n",
       "      <td>NaN</td>\n",
       "      <td>NaN</td>\n",
       "      <td>NaN</td>\n",
       "      <td>0</td>\n",
       "    </tr>\n",
       "    <tr>\n",
       "      <th>4</th>\n",
       "      <td>1994-01-07</td>\n",
       "      <td>3621.199951</td>\n",
       "      <td>3644.399902</td>\n",
       "      <td>3598.699951</td>\n",
       "      <td>3636.399902</td>\n",
       "      <td>3636.396240</td>\n",
       "      <td>0.0</td>\n",
       "      <td>1</td>\n",
       "    </tr>\n",
       "  </tbody>\n",
       "</table>\n",
       "</div>"
      ],
      "text/plain": [
       "         Date         Open         High          Low        Close  \\\n",
       "0  1994-01-03  3615.199951  3654.699951  3581.000000  3654.500000   \n",
       "1  1994-01-04  3654.500000  3675.500000  3625.100098  3630.300049   \n",
       "2  1994-01-05  3625.199951  3625.199951  3583.399902  3621.199951   \n",
       "3  1994-01-06          NaN          NaN          NaN          NaN   \n",
       "4  1994-01-07  3621.199951  3644.399902  3598.699951  3636.399902   \n",
       "\n",
       "     Adj Close  Volume  Target  \n",
       "0  3654.496338     0.0       0  \n",
       "1  3630.296387     0.0       1  \n",
       "2  3621.196289     0.0       1  \n",
       "3          NaN     NaN       0  \n",
       "4  3636.396240     0.0       1  "
      ]
     },
     "execution_count": 5,
     "metadata": {},
     "output_type": "execute_result"
    }
   ],
   "source": [
    "df = pd.read_csv('train.csv')\n",
    "print('The shape of our dataframe is:', df.shape)\n",
    "df.head()"
   ]
  },
  {
   "cell_type": "code",
   "execution_count": 7,
   "id": "0d2aa9b1-0973-4e06-91c0-65e89026d1dd",
   "metadata": {},
   "outputs": [
    {
     "data": {
      "text/html": [
       "<div>\n",
       "<style scoped>\n",
       "    .dataframe tbody tr th:only-of-type {\n",
       "        vertical-align: middle;\n",
       "    }\n",
       "\n",
       "    .dataframe tbody tr th {\n",
       "        vertical-align: top;\n",
       "    }\n",
       "\n",
       "    .dataframe thead th {\n",
       "        text-align: right;\n",
       "    }\n",
       "</style>\n",
       "<table border=\"1\" class=\"dataframe\">\n",
       "  <thead>\n",
       "    <tr style=\"text-align: right;\">\n",
       "      <th></th>\n",
       "      <th>Open</th>\n",
       "      <th>High</th>\n",
       "      <th>Low</th>\n",
       "      <th>Close</th>\n",
       "      <th>Adj Close</th>\n",
       "      <th>Volume</th>\n",
       "      <th>Target</th>\n",
       "    </tr>\n",
       "  </thead>\n",
       "  <tbody>\n",
       "    <tr>\n",
       "      <th>count</th>\n",
       "      <td>6421.000000</td>\n",
       "      <td>6421.000000</td>\n",
       "      <td>6421.000000</td>\n",
       "      <td>6421.000000</td>\n",
       "      <td>6421.000000</td>\n",
       "      <td>6.421000e+03</td>\n",
       "      <td>6554.000000</td>\n",
       "    </tr>\n",
       "    <tr>\n",
       "      <th>mean</th>\n",
       "      <td>8936.540448</td>\n",
       "      <td>9005.235576</td>\n",
       "      <td>8858.340567</td>\n",
       "      <td>8934.978558</td>\n",
       "      <td>8934.970624</td>\n",
       "      <td>8.218074e+07</td>\n",
       "      <td>0.516936</td>\n",
       "    </tr>\n",
       "    <tr>\n",
       "      <th>std</th>\n",
       "      <td>2732.102441</td>\n",
       "      <td>2749.009324</td>\n",
       "      <td>2712.511028</td>\n",
       "      <td>2731.032625</td>\n",
       "      <td>2731.030170</td>\n",
       "      <td>1.231845e+08</td>\n",
       "      <td>0.499751</td>\n",
       "    </tr>\n",
       "    <tr>\n",
       "      <th>min</th>\n",
       "      <td>2865.100098</td>\n",
       "      <td>2877.300049</td>\n",
       "      <td>2833.600098</td>\n",
       "      <td>2865.100098</td>\n",
       "      <td>2865.097168</td>\n",
       "      <td>0.000000e+00</td>\n",
       "      <td>0.000000</td>\n",
       "    </tr>\n",
       "    <tr>\n",
       "      <th>25%</th>\n",
       "      <td>7732.399902</td>\n",
       "      <td>7817.200195</td>\n",
       "      <td>7641.500000</td>\n",
       "      <td>7727.799805</td>\n",
       "      <td>7727.791992</td>\n",
       "      <td>0.000000e+00</td>\n",
       "      <td>0.000000</td>\n",
       "    </tr>\n",
       "    <tr>\n",
       "      <th>50%</th>\n",
       "      <td>9329.700195</td>\n",
       "      <td>9404.599609</td>\n",
       "      <td>9243.000000</td>\n",
       "      <td>9331.000000</td>\n",
       "      <td>9331.000000</td>\n",
       "      <td>1.966000e+05</td>\n",
       "      <td>1.000000</td>\n",
       "    </tr>\n",
       "    <tr>\n",
       "      <th>75%</th>\n",
       "      <td>10525.500000</td>\n",
       "      <td>10590.299805</td>\n",
       "      <td>10441.200195</td>\n",
       "      <td>10523.400391</td>\n",
       "      <td>10523.400391</td>\n",
       "      <td>1.773980e+08</td>\n",
       "      <td>1.000000</td>\n",
       "    </tr>\n",
       "    <tr>\n",
       "      <th>max</th>\n",
       "      <td>15999.200195</td>\n",
       "      <td>16040.400391</td>\n",
       "      <td>15868.599609</td>\n",
       "      <td>15945.700195</td>\n",
       "      <td>15945.683594</td>\n",
       "      <td>7.894902e+08</td>\n",
       "      <td>1.000000</td>\n",
       "    </tr>\n",
       "  </tbody>\n",
       "</table>\n",
       "</div>"
      ],
      "text/plain": [
       "               Open          High           Low         Close     Adj Close  \\\n",
       "count   6421.000000   6421.000000   6421.000000   6421.000000   6421.000000   \n",
       "mean    8936.540448   9005.235576   8858.340567   8934.978558   8934.970624   \n",
       "std     2732.102441   2749.009324   2712.511028   2731.032625   2731.030170   \n",
       "min     2865.100098   2877.300049   2833.600098   2865.100098   2865.097168   \n",
       "25%     7732.399902   7817.200195   7641.500000   7727.799805   7727.791992   \n",
       "50%     9329.700195   9404.599609   9243.000000   9331.000000   9331.000000   \n",
       "75%    10525.500000  10590.299805  10441.200195  10523.400391  10523.400391   \n",
       "max    15999.200195  16040.400391  15868.599609  15945.700195  15945.683594   \n",
       "\n",
       "             Volume       Target  \n",
       "count  6.421000e+03  6554.000000  \n",
       "mean   8.218074e+07     0.516936  \n",
       "std    1.231845e+08     0.499751  \n",
       "min    0.000000e+00     0.000000  \n",
       "25%    0.000000e+00     0.000000  \n",
       "50%    1.966000e+05     1.000000  \n",
       "75%    1.773980e+08     1.000000  \n",
       "max    7.894902e+08     1.000000  "
      ]
     },
     "execution_count": 7,
     "metadata": {},
     "output_type": "execute_result"
    }
   ],
   "source": [
    "# Descriptive statistics for each column\n",
    "df.describe()"
   ]
  },
  {
   "cell_type": "markdown",
   "id": "4297af5c-ca66-4768-a87e-859c15abd16e",
   "metadata": {},
   "source": [
    "Podemos ver que hay valores nulos, los tenemos que limpiar. A medida que voy haciendo capas de limpieza voy poninendo df_cleanX (df_clean1, df_clean2, ...)"
   ]
  },
  {
   "cell_type": "code",
   "execution_count": 8,
   "id": "533664f4-d6e5-414a-b97f-51870bb96d40",
   "metadata": {},
   "outputs": [
    {
     "data": {
      "text/html": [
       "<div>\n",
       "<style scoped>\n",
       "    .dataframe tbody tr th:only-of-type {\n",
       "        vertical-align: middle;\n",
       "    }\n",
       "\n",
       "    .dataframe tbody tr th {\n",
       "        vertical-align: top;\n",
       "    }\n",
       "\n",
       "    .dataframe thead th {\n",
       "        text-align: right;\n",
       "    }\n",
       "</style>\n",
       "<table border=\"1\" class=\"dataframe\">\n",
       "  <thead>\n",
       "    <tr style=\"text-align: right;\">\n",
       "      <th></th>\n",
       "      <th>Date</th>\n",
       "      <th>Open</th>\n",
       "      <th>High</th>\n",
       "      <th>Low</th>\n",
       "      <th>Close</th>\n",
       "      <th>Adj Close</th>\n",
       "      <th>Volume</th>\n",
       "      <th>Target</th>\n",
       "    </tr>\n",
       "  </thead>\n",
       "  <tbody>\n",
       "    <tr>\n",
       "      <th>0</th>\n",
       "      <td>1994-01-03</td>\n",
       "      <td>3615.199951</td>\n",
       "      <td>3654.699951</td>\n",
       "      <td>3581.000000</td>\n",
       "      <td>3654.500000</td>\n",
       "      <td>3654.496338</td>\n",
       "      <td>0.0</td>\n",
       "      <td>0</td>\n",
       "    </tr>\n",
       "    <tr>\n",
       "      <th>1</th>\n",
       "      <td>1994-01-04</td>\n",
       "      <td>3654.500000</td>\n",
       "      <td>3675.500000</td>\n",
       "      <td>3625.100098</td>\n",
       "      <td>3630.300049</td>\n",
       "      <td>3630.296387</td>\n",
       "      <td>0.0</td>\n",
       "      <td>1</td>\n",
       "    </tr>\n",
       "    <tr>\n",
       "      <th>2</th>\n",
       "      <td>1994-01-05</td>\n",
       "      <td>3625.199951</td>\n",
       "      <td>3625.199951</td>\n",
       "      <td>3583.399902</td>\n",
       "      <td>3621.199951</td>\n",
       "      <td>3621.196289</td>\n",
       "      <td>0.0</td>\n",
       "      <td>1</td>\n",
       "    </tr>\n",
       "    <tr>\n",
       "      <th>4</th>\n",
       "      <td>1994-01-07</td>\n",
       "      <td>3621.199951</td>\n",
       "      <td>3644.399902</td>\n",
       "      <td>3598.699951</td>\n",
       "      <td>3636.399902</td>\n",
       "      <td>3636.396240</td>\n",
       "      <td>0.0</td>\n",
       "      <td>1</td>\n",
       "    </tr>\n",
       "    <tr>\n",
       "      <th>5</th>\n",
       "      <td>1994-01-10</td>\n",
       "      <td>3655.199951</td>\n",
       "      <td>3678.199951</td>\n",
       "      <td>3655.199951</td>\n",
       "      <td>3660.600098</td>\n",
       "      <td>3660.596436</td>\n",
       "      <td>0.0</td>\n",
       "      <td>1</td>\n",
       "    </tr>\n",
       "  </tbody>\n",
       "</table>\n",
       "</div>"
      ],
      "text/plain": [
       "         Date         Open         High          Low        Close  \\\n",
       "0  1994-01-03  3615.199951  3654.699951  3581.000000  3654.500000   \n",
       "1  1994-01-04  3654.500000  3675.500000  3625.100098  3630.300049   \n",
       "2  1994-01-05  3625.199951  3625.199951  3583.399902  3621.199951   \n",
       "4  1994-01-07  3621.199951  3644.399902  3598.699951  3636.399902   \n",
       "5  1994-01-10  3655.199951  3678.199951  3655.199951  3660.600098   \n",
       "\n",
       "     Adj Close  Volume  Target  \n",
       "0  3654.496338     0.0       0  \n",
       "1  3630.296387     0.0       1  \n",
       "2  3621.196289     0.0       1  \n",
       "4  3636.396240     0.0       1  \n",
       "5  3660.596436     0.0       1  "
      ]
     },
     "execution_count": 8,
     "metadata": {},
     "output_type": "execute_result"
    }
   ],
   "source": [
    "df_clean1 = df.dropna()\n",
    "df_clean1.head()"
   ]
  },
  {
   "cell_type": "code",
   "execution_count": 17,
   "id": "791a996b-b6d7-44f4-abb4-fa0f8fa777ba",
   "metadata": {},
   "outputs": [
    {
     "data": {
      "image/png": "[encoded data removed]",
      "text/plain": [
       "<Figure size 720x360 with 1 Axes>"
      ]
     },
     "metadata": {
      "needs_background": "light"
     },
     "output_type": "display_data"
    }
   ],
   "source": [
    "# Basic Initial Plots\n",
    "plt.figure(figsize = (10,5))\n",
    "plt.plot(df['Close'])\n",
    "#plt.xticks(range(0, df_clean1.shape[0], 100), df['Date'].loc[::100], rotation = 45)\n",
    "plt.title('IBEX 35', fontsize = 22)\n",
    "plt.xlabel('Number of Days', fontsize = 18)\n",
    "plt.ylabel('Close Prize', fontsize = 18)\n",
    "plt.show()"
   ]
  },
  {
   "cell_type": "code",
   "execution_count": 18,
   "id": "776fb4f3-7b71-4711-9fb9-6efcf48ace71",
   "metadata": {},
   "outputs": [
    {
     "data": {
      "text/html": [
       "<div>\n",
       "<style scoped>\n",
       "    .dataframe tbody tr th:only-of-type {\n",
       "        vertical-align: middle;\n",
       "    }\n",
       "\n",
       "    .dataframe tbody tr th {\n",
       "        vertical-align: top;\n",
       "    }\n",
       "\n",
       "    .dataframe thead th {\n",
       "        text-align: right;\n",
       "    }\n",
       "</style>\n",
       "<table border=\"1\" class=\"dataframe\">\n",
       "  <thead>\n",
       "    <tr style=\"text-align: right;\">\n",
       "      <th></th>\n",
       "      <th>Date</th>\n",
       "      <th>Close</th>\n",
       "      <th>Target</th>\n",
       "    </tr>\n",
       "  </thead>\n",
       "  <tbody>\n",
       "    <tr>\n",
       "      <th>0</th>\n",
       "      <td>1994-01-03</td>\n",
       "      <td>3654.500000</td>\n",
       "      <td>0</td>\n",
       "    </tr>\n",
       "    <tr>\n",
       "      <th>1</th>\n",
       "      <td>1994-01-04</td>\n",
       "      <td>3630.300049</td>\n",
       "      <td>1</td>\n",
       "    </tr>\n",
       "    <tr>\n",
       "      <th>2</th>\n",
       "      <td>1994-01-05</td>\n",
       "      <td>3621.199951</td>\n",
       "      <td>1</td>\n",
       "    </tr>\n",
       "    <tr>\n",
       "      <th>4</th>\n",
       "      <td>1994-01-07</td>\n",
       "      <td>3636.399902</td>\n",
       "      <td>1</td>\n",
       "    </tr>\n",
       "    <tr>\n",
       "      <th>5</th>\n",
       "      <td>1994-01-10</td>\n",
       "      <td>3660.600098</td>\n",
       "      <td>1</td>\n",
       "    </tr>\n",
       "  </tbody>\n",
       "</table>\n",
       "</div>"
      ],
      "text/plain": [
       "         Date        Close  Target\n",
       "0  1994-01-03  3654.500000       0\n",
       "1  1994-01-04  3630.300049       1\n",
       "2  1994-01-05  3621.199951       1\n",
       "4  1994-01-07  3636.399902       1\n",
       "5  1994-01-10  3660.600098       1"
      ]
     },
     "execution_count": 18,
     "metadata": {},
     "output_type": "execute_result"
    }
   ],
   "source": [
    "df_close = df_clean1[['Date', 'Close', 'Target']]\n",
    "df_close.head()"
   ]
  },
  {
   "cell_type": "code",
   "execution_count": 20,
   "id": "6fa65c0f-091c-49ac-9249-3f1ef587f1e5",
   "metadata": {},
   "outputs": [],
   "source": [
    "#Split the data into training and validation\n",
    "features = df_close[['Close']]\n",
    "labels = df_close[['Target']]\n",
    "train_features, test_features, train_labels, test_labels = train_test_split(features, labels, test_size = 0.1) "
   ]
  },
  {
   "cell_type": "code",
   "execution_count": 22,
   "id": "757355ee-624c-460e-ac49-9cceb6a10d47",
   "metadata": {},
   "outputs": [
    {
     "name": "stdout",
     "output_type": "stream",
     "text": [
      "Training Features Shape: (5778, 1)\n",
      "Training Labels Shape: (5778, 1)\n",
      "Validation Features Shape: (643, 1)\n",
      "Testing Labels Shape: (643, 1)\n"
     ]
    }
   ],
   "source": [
    "print('Training Features Shape:', train_features.shape)\n",
    "print('Training Labels Shape:', train_labels.shape)\n",
    "print('Validation Features Shape:', test_features.shape)\n",
    "print('Testing Labels Shape:', test_labels.shape)"
   ]
  },
  {
   "cell_type": "code",
   "execution_count": 24,
   "id": "8b7b015c-ea7a-45df-ac4e-4275382b594f",
   "metadata": {},
   "outputs": [],
   "source": [
    "# Saving feature names for later use\n",
    "feature_list = list(df_close.columns)"
   ]
  },
  {
   "cell_type": "code",
   "execution_count": 28,
   "id": "6ce00205-b217-49de-a911-a9e5324f57ba",
   "metadata": {},
   "outputs": [],
   "source": [
    "from sklearn.ensemble import RandomForestRegressor"
   ]
  },
  {
   "cell_type": "code",
   "execution_count": 92,
   "id": "222e8454-8020-4239-b33c-2d8a3436ec95",
   "metadata": {},
   "outputs": [
    {
     "name": "stderr",
     "output_type": "stream",
     "text": [
      "C:\\Users\\joan.nigorra\\AppData\\Local\\Temp\\ipykernel_31188\\148747763.py:2: DataConversionWarning: A column-vector y was passed when a 1d array was expected. Please change the shape of y to (n_samples,), for example using ravel().\n",
      "  rf.fit(train_features, train_labels)\n"
     ]
    },
    {
     "data": {
      "text/html": [
       "<style>#sk-container-id-5 {color: black;background-color: white;}#sk-container-id-5 pre{padding: 0;}#sk-container-id-5 div.sk-toggleable {background-color: white;}#sk-container-id-5 label.sk-toggleable__label {cursor: pointer;display: block;width: 100%;margin-bottom: 0;padding: 0.3em;box-sizing: border-box;text-align: center;}#sk-container-id-5 label.sk-toggleable__label-arrow:before {content: \"▸\";float: left;margin-right: 0.25em;color: #696969;}#sk-container-id-5 label.sk-toggleable__label-arrow:hover:before {color: black;}#sk-container-id-5 div.sk-estimator:hover label.sk-toggleable__label-arrow:before {color: black;}#sk-container-id-5 div.sk-toggleable__content {max-height: 0;max-width: 0;overflow: hidden;text-align: left;background-color: #f0f8ff;}#sk-container-id-5 div.sk-toggleable__content pre {margin: 0.2em;color: black;border-radius: 0.25em;background-color: #f0f8ff;}#sk-container-id-5 input.sk-toggleable__control:checked~div.sk-toggleable__content {max-height: 200px;max-width: 100%;overflow: auto;}#sk-container-id-5 input.sk-toggleable__control:checked~label.sk-toggleable__label-arrow:before {content: \"▾\";}#sk-container-id-5 div.sk-estimator input.sk-toggleable__control:checked~label.sk-toggleable__label {background-color: #d4ebff;}#sk-container-id-5 div.sk-label input.sk-toggleable__control:checked~label.sk-toggleable__label {background-color: #d4ebff;}#sk-container-id-5 input.sk-hidden--visually {border: 0;clip: rect(1px 1px 1px 1px);clip: rect(1px, 1px, 1px, 1px);height: 1px;margin: -1px;overflow: hidden;padding: 0;position: absolute;width: 1px;}#sk-container-id-5 div.sk-estimator {font-family: monospace;background-color: #f0f8ff;border: 1px dotted black;border-radius: 0.25em;box-sizing: border-box;margin-bottom: 0.5em;}#sk-container-id-5 div.sk-estimator:hover {background-color: #d4ebff;}#sk-container-id-5 div.sk-parallel-item::after {content: \"\";width: 100%;border-bottom: 1px solid gray;flex-grow: 1;}#sk-container-id-5 div.sk-label:hover label.sk-toggleable__label {background-color: #d4ebff;}#sk-container-id-5 div.sk-serial::before {content: \"\";position: absolute;border-left: 1px solid gray;box-sizing: border-box;top: 0;bottom: 0;left: 50%;z-index: 0;}#sk-container-id-5 div.sk-serial {display: flex;flex-direction: column;align-items: center;background-color: white;padding-right: 0.2em;padding-left: 0.2em;position: relative;}#sk-container-id-5 div.sk-item {position: relative;z-index: 1;}#sk-container-id-5 div.sk-parallel {display: flex;align-items: stretch;justify-content: center;background-color: white;position: relative;}#sk-container-id-5 div.sk-item::before, #sk-container-id-5 div.sk-parallel-item::before {content: \"\";position: absolute;border-left: 1px solid gray;box-sizing: border-box;top: 0;bottom: 0;left: 50%;z-index: -1;}#sk-container-id-5 div.sk-parallel-item {display: flex;flex-direction: column;z-index: 1;position: relative;background-color: white;}#sk-container-id-5 div.sk-parallel-item:first-child::after {align-self: flex-end;width: 50%;}#sk-container-id-5 div.sk-parallel-item:last-child::after {align-self: flex-start;width: 50%;}#sk-container-id-5 div.sk-parallel-item:only-child::after {width: 0;}#sk-container-id-5 div.sk-dashed-wrapped {border: 1px dashed gray;margin: 0 0.4em 0.5em 0.4em;box-sizing: border-box;padding-bottom: 0.4em;background-color: white;}#sk-container-id-5 div.sk-label label {font-family: monospace;font-weight: bold;display: inline-block;line-height: 1.2em;}#sk-container-id-5 div.sk-label-container {text-align: center;}#sk-container-id-5 div.sk-container {/* jupyter's `normalize.less` sets `[hidden] { display: none; }` but bootstrap.min.css set `[hidden] { display: none !important; }` so we also need the `!important` here to be able to override the default hidden behavior on the sphinx rendered scikit-learn.org. See: https://github.com/scikit-learn/scikit-learn/issues/21755 */display: inline-block !important;position: relative;}#sk-container-id-5 div.sk-text-repr-fallback {display: none;}</style><div id=\"sk-container-id-5\" class=\"sk-top-container\"><div class=\"sk-text-repr-fallback\"><pre>RandomForestRegressor(n_estimators=1000)</pre><b>In a Jupyter environment, please rerun this cell to show the HTML representation or trust the notebook. <br />On GitHub, the HTML representation is unable to render, please try loading this page with nbviewer.org.</b></div><div class=\"sk-container\" hidden><div class=\"sk-item\"><div class=\"sk-estimator sk-toggleable\"><input class=\"sk-toggleable__control sk-hidden--visually\" id=\"sk-estimator-id-5\" type=\"checkbox\" checked><label for=\"sk-estimator-id-5\" class=\"sk-toggleable__label sk-toggleable__label-arrow\">RandomForestRegressor</label><div class=\"sk-toggleable__content\"><pre>RandomForestRegressor(n_estimators=1000)</pre></div></div></div></div></div>"
      ],
      "text/plain": [
       "RandomForestRegressor(n_estimators=1000)"
      ]
     },
     "execution_count": 92,
     "metadata": {},
     "output_type": "execute_result"
    }
   ],
   "source": [
    "rf = RandomForestRegressor(n_estimators = 1000)\n",
    "rf.fit(train_features, train_labels)"
   ]
  },
  {
   "cell_type": "code",
   "execution_count": 93,
   "id": "94eb293d-32f4-457c-b021-cf6d85ff81f5",
   "metadata": {},
   "outputs": [],
   "source": [
    "# Use the forest's predict method on the test data\n",
    "predictions = rf.predict(test_features)"
   ]
  },
  {
   "cell_type": "code",
   "execution_count": 97,
   "id": "c91ee60e-f108-46e5-a4fd-96689804ca96",
   "metadata": {},
   "outputs": [
    {
     "name": "stdout",
     "output_type": "stream",
     "text": [
      "---> 30 primeras predicciones [0.911, 0.329, 0.3676666666666667, 0.01, 0.732, 0.734, 0.361, 0.311, 0.788, 0.741, 0.663, 0.34235, 0.041, 0.885, 0.017, 0.69, 0.352, 0.999, 0.889, 0.9403, 0.765, 0.015, 0.666, 0.107, 0.0, 0.995, 0.336, 0.7433166666666666, 0.07608333333333332, 0.24]\n",
      "---> 30 primeras predicciones aproximando a 0 o 1: [1, 0, 0, 0, 1, 1, 0, 0, 1, 1, 1, 0, 0, 1, 0, 1, 0, 1, 1, 1, 1, 0, 1, 0, 0, 1, 0, 1, 0, 0]\n"
     ]
    }
   ],
   "source": [
    "# Calculate the absolute errors\n",
    "predictions_vector = np.reshape(predictions, -1)\n",
    "predictions_binary_vec = []\n",
    "predictions_vec = []\n",
    "for i in range (len(predictions_vector)):\n",
    "    predictions_vec.append(predictions[i])\n",
    "    if predictions[i] > 0.5:\n",
    "        predictions_binary_vec.append(1)\n",
    "    else:\n",
    "        predictions_binary_vec.append(0)\n",
    "print(\"---> 30 primeras predicciones\", predictions_vec[0:30])\n",
    "print(\"---> 30 primeras predicciones aproximando a 0 o 1:\", predictions_binary_vec[0:30])\n",
    "test_labels_vec = test_labels['Target'].values.tolist()\n",
    "#print(test_labels_vec)"
   ]
  },
  {
   "cell_type": "code",
   "execution_count": 91,
   "id": "18ff8ce6-a84e-4b1e-bcb5-4ac9a7025ba1",
   "metadata": {},
   "outputs": [],
   "source": [
    "errors_binary_vec = []\n",
    "errors_vec = []\n",
    "for q in range(len(test_labels_vec)):\n",
    "    error = abs(test_labels_vec[q] - predictions_vec[q])\n",
    "    errors_vec.append(error)\n",
    "    error_binary = abs(test_labels_vec[q] - predictions_binary_vec[q])\n",
    "    errors_binary_vec.append(error_binary)\n",
    "#print(errors_vec)\n",
    "#print(errors_binary_vec)"
   ]
  },
  {
   "cell_type": "code",
   "execution_count": 89,
   "id": "7ce203fc-cae8-4b4c-b95c-e00927e5012e",
   "metadata": {},
   "outputs": [
    {
     "name": "stdout",
     "output_type": "stream",
     "text": [
      "Mean Absolute Error: 0.497 \n"
     ]
    }
   ],
   "source": [
    "# Print out the mean absolute error (mae)\n",
    "print('Mean Absolute Error:', round(np.mean(errors_vec), 3), '')"
   ]
  },
  {
   "cell_type": "code",
   "execution_count": 90,
   "id": "f49947ee-4909-4da8-8f83-b183acae0c72",
   "metadata": {},
   "outputs": [
    {
     "name": "stdout",
     "output_type": "stream",
     "text": [
      "Mean Absolute Error: 0.502 \n"
     ]
    }
   ],
   "source": [
    "print('Mean Absolute Error:', round(np.mean(errors_binary_vec), 3), '')"
   ]
  },
  {
   "cell_type": "markdown",
   "id": "c2ec1586-98b5-4b81-88cc-4c2631072873",
   "metadata": {},
   "source": [
    "Vemos que el error absoluto, tanto si aproximamos la predición a 0 o 1, como si no, es aprox 0.5. Esto no es bueno ya que al ser la solución binaria, es igual a tomar decisiones tirando una moneda al aire. 50% de probabilidad de adivinar si va a subir o bajar el valor los próximos tres días. (Todo eso suponiendo que lo que he ehcho esta bien, que lo dudo jejeje)"
   ]
  },
  {
   "cell_type": "markdown",
   "id": "377cbb5a-a80d-455c-819e-c5f3cab541cc",
   "metadata": {},
   "source": [
    "## Versión 2"
   ]
  },
  {
   "cell_type": "markdown",
   "id": "4548891c-3f3e-48a9-979b-06064245a668",
   "metadata": {},
   "source": [
    "Excluimos Volume"
   ]
  },
  {
   "cell_type": "code",
   "execution_count": 99,
   "id": "67370474-905e-42a5-b396-0faad7fd59f2",
   "metadata": {},
   "outputs": [
    {
     "data": {
      "text/html": [
       "<div>\n",
       "<style scoped>\n",
       "    .dataframe tbody tr th:only-of-type {\n",
       "        vertical-align: middle;\n",
       "    }\n",
       "\n",
       "    .dataframe tbody tr th {\n",
       "        vertical-align: top;\n",
       "    }\n",
       "\n",
       "    .dataframe thead th {\n",
       "        text-align: right;\n",
       "    }\n",
       "</style>\n",
       "<table border=\"1\" class=\"dataframe\">\n",
       "  <thead>\n",
       "    <tr style=\"text-align: right;\">\n",
       "      <th></th>\n",
       "      <th>Date</th>\n",
       "      <th>Open</th>\n",
       "      <th>High</th>\n",
       "      <th>Low</th>\n",
       "      <th>Close</th>\n",
       "      <th>Adj Close</th>\n",
       "      <th>Target</th>\n",
       "    </tr>\n",
       "  </thead>\n",
       "  <tbody>\n",
       "    <tr>\n",
       "      <th>0</th>\n",
       "      <td>1994-01-03</td>\n",
       "      <td>3615.199951</td>\n",
       "      <td>3654.699951</td>\n",
       "      <td>3581.000000</td>\n",
       "      <td>3654.500000</td>\n",
       "      <td>3654.496338</td>\n",
       "      <td>0</td>\n",
       "    </tr>\n",
       "    <tr>\n",
       "      <th>1</th>\n",
       "      <td>1994-01-04</td>\n",
       "      <td>3654.500000</td>\n",
       "      <td>3675.500000</td>\n",
       "      <td>3625.100098</td>\n",
       "      <td>3630.300049</td>\n",
       "      <td>3630.296387</td>\n",
       "      <td>1</td>\n",
       "    </tr>\n",
       "    <tr>\n",
       "      <th>2</th>\n",
       "      <td>1994-01-05</td>\n",
       "      <td>3625.199951</td>\n",
       "      <td>3625.199951</td>\n",
       "      <td>3583.399902</td>\n",
       "      <td>3621.199951</td>\n",
       "      <td>3621.196289</td>\n",
       "      <td>1</td>\n",
       "    </tr>\n",
       "    <tr>\n",
       "      <th>4</th>\n",
       "      <td>1994-01-07</td>\n",
       "      <td>3621.199951</td>\n",
       "      <td>3644.399902</td>\n",
       "      <td>3598.699951</td>\n",
       "      <td>3636.399902</td>\n",
       "      <td>3636.396240</td>\n",
       "      <td>1</td>\n",
       "    </tr>\n",
       "    <tr>\n",
       "      <th>5</th>\n",
       "      <td>1994-01-10</td>\n",
       "      <td>3655.199951</td>\n",
       "      <td>3678.199951</td>\n",
       "      <td>3655.199951</td>\n",
       "      <td>3660.600098</td>\n",
       "      <td>3660.596436</td>\n",
       "      <td>1</td>\n",
       "    </tr>\n",
       "  </tbody>\n",
       "</table>\n",
       "</div>"
      ],
      "text/plain": [
       "         Date         Open         High          Low        Close  \\\n",
       "0  1994-01-03  3615.199951  3654.699951  3581.000000  3654.500000   \n",
       "1  1994-01-04  3654.500000  3675.500000  3625.100098  3630.300049   \n",
       "2  1994-01-05  3625.199951  3625.199951  3583.399902  3621.199951   \n",
       "4  1994-01-07  3621.199951  3644.399902  3598.699951  3636.399902   \n",
       "5  1994-01-10  3655.199951  3678.199951  3655.199951  3660.600098   \n",
       "\n",
       "     Adj Close  Target  \n",
       "0  3654.496338       0  \n",
       "1  3630.296387       1  \n",
       "2  3621.196289       1  \n",
       "4  3636.396240       1  \n",
       "5  3660.596436       1  "
      ]
     },
     "execution_count": 99,
     "metadata": {},
     "output_type": "execute_result"
    }
   ],
   "source": [
    "df_full = df_clean1[['Date','Open', 'High', 'Low', 'Close', 'Adj Close', 'Target']]\n",
    "df_full.head()"
   ]
  },
  {
   "cell_type": "code",
   "execution_count": 100,
   "id": "44cfdaf2-d4d9-466d-a4a1-436ae3fef400",
   "metadata": {},
   "outputs": [],
   "source": [
    "#Split the data into training and validation\n",
    "features_full = df_full[['Open', 'High', 'Low', 'Close', 'Adj Close']]\n",
    "labels_full = df_full[['Target']]\n",
    "train_full, test_full, train_labels_full, test_labels_full = train_test_split(features_full, labels_full, test_size = 0.1) "
   ]
  },
  {
   "cell_type": "code",
   "execution_count": 101,
   "id": "76d425f2-bc09-419a-91c8-cf35823c01f7",
   "metadata": {},
   "outputs": [
    {
     "name": "stderr",
     "output_type": "stream",
     "text": [
      "C:\\Users\\joan.nigorra\\AppData\\Local\\Temp\\ipykernel_31188\\1863535910.py:2: DataConversionWarning: A column-vector y was passed when a 1d array was expected. Please change the shape of y to (n_samples,), for example using ravel().\n",
      "  rf_full.fit(train_full, train_labels_full)\n"
     ]
    },
    {
     "data": {
      "text/html": [
       "<style>#sk-container-id-6 {color: black;background-color: white;}#sk-container-id-6 pre{padding: 0;}#sk-container-id-6 div.sk-toggleable {background-color: white;}#sk-container-id-6 label.sk-toggleable__label {cursor: pointer;display: block;width: 100%;margin-bottom: 0;padding: 0.3em;box-sizing: border-box;text-align: center;}#sk-container-id-6 label.sk-toggleable__label-arrow:before {content: \"▸\";float: left;margin-right: 0.25em;color: #696969;}#sk-container-id-6 label.sk-toggleable__label-arrow:hover:before {color: black;}#sk-container-id-6 div.sk-estimator:hover label.sk-toggleable__label-arrow:before {color: black;}#sk-container-id-6 div.sk-toggleable__content {max-height: 0;max-width: 0;overflow: hidden;text-align: left;background-color: #f0f8ff;}#sk-container-id-6 div.sk-toggleable__content pre {margin: 0.2em;color: black;border-radius: 0.25em;background-color: #f0f8ff;}#sk-container-id-6 input.sk-toggleable__control:checked~div.sk-toggleable__content {max-height: 200px;max-width: 100%;overflow: auto;}#sk-container-id-6 input.sk-toggleable__control:checked~label.sk-toggleable__label-arrow:before {content: \"▾\";}#sk-container-id-6 div.sk-estimator input.sk-toggleable__control:checked~label.sk-toggleable__label {background-color: #d4ebff;}#sk-container-id-6 div.sk-label input.sk-toggleable__control:checked~label.sk-toggleable__label {background-color: #d4ebff;}#sk-container-id-6 input.sk-hidden--visually {border: 0;clip: rect(1px 1px 1px 1px);clip: rect(1px, 1px, 1px, 1px);height: 1px;margin: -1px;overflow: hidden;padding: 0;position: absolute;width: 1px;}#sk-container-id-6 div.sk-estimator {font-family: monospace;background-color: #f0f8ff;border: 1px dotted black;border-radius: 0.25em;box-sizing: border-box;margin-bottom: 0.5em;}#sk-container-id-6 div.sk-estimator:hover {background-color: #d4ebff;}#sk-container-id-6 div.sk-parallel-item::after {content: \"\";width: 100%;border-bottom: 1px solid gray;flex-grow: 1;}#sk-container-id-6 div.sk-label:hover label.sk-toggleable__label {background-color: #d4ebff;}#sk-container-id-6 div.sk-serial::before {content: \"\";position: absolute;border-left: 1px solid gray;box-sizing: border-box;top: 0;bottom: 0;left: 50%;z-index: 0;}#sk-container-id-6 div.sk-serial {display: flex;flex-direction: column;align-items: center;background-color: white;padding-right: 0.2em;padding-left: 0.2em;position: relative;}#sk-container-id-6 div.sk-item {position: relative;z-index: 1;}#sk-container-id-6 div.sk-parallel {display: flex;align-items: stretch;justify-content: center;background-color: white;position: relative;}#sk-container-id-6 div.sk-item::before, #sk-container-id-6 div.sk-parallel-item::before {content: \"\";position: absolute;border-left: 1px solid gray;box-sizing: border-box;top: 0;bottom: 0;left: 50%;z-index: -1;}#sk-container-id-6 div.sk-parallel-item {display: flex;flex-direction: column;z-index: 1;position: relative;background-color: white;}#sk-container-id-6 div.sk-parallel-item:first-child::after {align-self: flex-end;width: 50%;}#sk-container-id-6 div.sk-parallel-item:last-child::after {align-self: flex-start;width: 50%;}#sk-container-id-6 div.sk-parallel-item:only-child::after {width: 0;}#sk-container-id-6 div.sk-dashed-wrapped {border: 1px dashed gray;margin: 0 0.4em 0.5em 0.4em;box-sizing: border-box;padding-bottom: 0.4em;background-color: white;}#sk-container-id-6 div.sk-label label {font-family: monospace;font-weight: bold;display: inline-block;line-height: 1.2em;}#sk-container-id-6 div.sk-label-container {text-align: center;}#sk-container-id-6 div.sk-container {/* jupyter's `normalize.less` sets `[hidden] { display: none; }` but bootstrap.min.css set `[hidden] { display: none !important; }` so we also need the `!important` here to be able to override the default hidden behavior on the sphinx rendered scikit-learn.org. See: https://github.com/scikit-learn/scikit-learn/issues/21755 */display: inline-block !important;position: relative;}#sk-container-id-6 div.sk-text-repr-fallback {display: none;}</style><div id=\"sk-container-id-6\" class=\"sk-top-container\"><div class=\"sk-text-repr-fallback\"><pre>RandomForestRegressor(n_estimators=1000)</pre><b>In a Jupyter environment, please rerun this cell to show the HTML representation or trust the notebook. <br />On GitHub, the HTML representation is unable to render, please try loading this page with nbviewer.org.</b></div><div class=\"sk-container\" hidden><div class=\"sk-item\"><div class=\"sk-estimator sk-toggleable\"><input class=\"sk-toggleable__control sk-hidden--visually\" id=\"sk-estimator-id-6\" type=\"checkbox\" checked><label for=\"sk-estimator-id-6\" class=\"sk-toggleable__label sk-toggleable__label-arrow\">RandomForestRegressor</label><div class=\"sk-toggleable__content\"><pre>RandomForestRegressor(n_estimators=1000)</pre></div></div></div></div></div>"
      ],
      "text/plain": [
       "RandomForestRegressor(n_estimators=1000)"
      ]
     },
     "execution_count": 101,
     "metadata": {},
     "output_type": "execute_result"
    }
   ],
   "source": [
    "rf_full = RandomForestRegressor(n_estimators = 1000)\n",
    "rf_full.fit(train_full, train_labels_full)"
   ]
  },
  {
   "cell_type": "code",
   "execution_count": 102,
   "id": "dc81c97e-46e7-48da-aa36-90b563fa161e",
   "metadata": {},
   "outputs": [],
   "source": [
    "# Use the forest's predict method on the test data\n",
    "predictions_full = rf_full.predict(test_full)"
   ]
  },
  {
   "cell_type": "code",
   "execution_count": 103,
   "id": "3afbe948-62c8-4c8c-a603-d12bcf57d496",
   "metadata": {},
   "outputs": [
    {
     "name": "stdout",
     "output_type": "stream",
     "text": [
      "---> 30 primeras predicciones [0.107, 0.407, 0.854, 0.722, 0.505, 0.402, 0.457, 0.408, 0.492, 0.219, 0.476, 0.426, 0.545, 0.913, 0.121, 0.942, 0.919, 0.089, 0.919, 0.361, 0.874, 0.401, 0.685, 0.699, 0.163, 0.541, 0.615, 0.756, 0.662, 0.532]\n",
      "---> 30 primeras predicciones aproximando a 0 o 1: [0, 0, 1, 1, 1, 0, 0, 0, 0, 0, 0, 0, 1, 1, 0, 1, 1, 0, 1, 0, 1, 0, 1, 1, 0, 1, 1, 1, 1, 1]\n"
     ]
    }
   ],
   "source": [
    "# Calculate the absolute errors\n",
    "predict_vector = np.reshape(predictions_full, -1)\n",
    "predict_binary_vec = []\n",
    "predict_vec = []\n",
    "for i in range (len(predict_vector)):\n",
    "    predict_vec.append(predictions_full[i])\n",
    "    if predictions_full[i] > 0.5:\n",
    "        predict_binary_vec.append(1)\n",
    "    else:\n",
    "        predict_binary_vec.append(0)\n",
    "print(\"---> 30 primeras predicciones\", predict_vec[0:30])\n",
    "print(\"---> 30 primeras predicciones aproximando a 0 o 1:\", predict_binary_vec[0:30])\n",
    "test_labels_vec_full = test_labels_full['Target'].values.tolist()\n",
    "#print(test_labels_vec)"
   ]
  },
  {
   "cell_type": "code",
   "execution_count": 104,
   "id": "93b3e09f-72d9-47fb-b1be-7189b7fb9c67",
   "metadata": {},
   "outputs": [],
   "source": [
    "err_binary_vec = []\n",
    "err_vec = []\n",
    "for q in range(len(test_labels_vec_full)):\n",
    "    err = abs(test_labels_vec_full[q] - predict_vec[q])\n",
    "    err_vec.append(err)\n",
    "    err_binary = abs(test_labels_vec_full[q] - predict_binary_vec[q])\n",
    "    err_binary_vec.append(err_binary)\n",
    "#print(errors_vec)\n",
    "#print(errors_binary_vec)"
   ]
  },
  {
   "cell_type": "code",
   "execution_count": 105,
   "id": "71d12990-32d8-4166-aec2-53113e6ff428",
   "metadata": {},
   "outputs": [
    {
     "name": "stdout",
     "output_type": "stream",
     "text": [
      "Mean Absolute Error: 0.485 \n"
     ]
    }
   ],
   "source": [
    "# Print out the mean absolute error (mae)\n",
    "print('Mean Absolute Error:', round(np.mean(err_vec), 3), '')"
   ]
  },
  {
   "cell_type": "code",
   "execution_count": 106,
   "id": "615b9204-7ebd-4f74-9c48-283a4acca92c",
   "metadata": {},
   "outputs": [
    {
     "name": "stdout",
     "output_type": "stream",
     "text": [
      "Mean Absolute Error: 0.493 \n"
     ]
    }
   ],
   "source": [
    "print('Mean Absolute Error:', round(np.mean(err_binary_vec), 3), '')"
   ]
  },
  {
   "cell_type": "markdown",
   "id": "3441bc99-a279-42f9-93a7-0b614ba2b815",
   "metadata": {},
   "source": [
    "## K-means"
   ]
  },
  {
   "cell_type": "code",
   "execution_count": 3,
   "id": "81e7f908-1558-4f83-9407-2cb34c124cf3",
   "metadata": {},
   "outputs": [],
   "source": [
    "from kneed import KneeLocator\n",
    "from sklearn.datasets import make_blobs\n",
    "from sklearn.cluster import KMeans\n",
    "from sklearn.metrics import silhouette_score\n",
    "from sklearn.preprocessing import StandardScaler"
   ]
  },
  {
   "cell_type": "code",
   "execution_count": 4,
   "id": "27114210-c636-478e-bf31-5667e59b21aa",
   "metadata": {},
   "outputs": [],
   "source": [
    "features_full, labels_full = make_blobs(\n",
    "n_samples = 200, centers = 2, cluster_std = 2.75, random_state = 42)"
   ]
  },
  {
   "cell_type": "code",
   "execution_count": 5,
   "id": "049d480c-8e4a-48ce-98d4-945c916b9114",
   "metadata": {},
   "outputs": [],
   "source": [
    "scaler = StandardScaler()\n",
    "scaled_features  =scaler.fit_transform(features_full)"
   ]
  },
  {
   "cell_type": "code",
   "execution_count": 6,
   "id": "c70d07d2-92a6-486a-b680-f1accae52822",
   "metadata": {},
   "outputs": [
    {
     "data": {
      "text/plain": [
       "array([[-0.16911688, -1.18949511],\n",
       "       [ 0.95951447, -1.33149804],\n",
       "       [ 0.78395805, -0.50559701],\n",
       "       [-1.38628576,  1.07487304],\n",
       "       [ 0.93494981, -1.20403126]])"
      ]
     },
     "execution_count": 6,
     "metadata": {},
     "output_type": "execute_result"
    }
   ],
   "source": [
    "scaled_features[:5]"
   ]
  },
  {
   "cell_type": "code",
   "execution_count": 7,
   "id": "8936f88b-0030-4e1e-aafd-8ad7e6755090",
   "metadata": {},
   "outputs": [],
   "source": [
    "kmeans = KMeans(\n",
    "    init = \"random\", \n",
    "    n_clusters = 2,\n",
    "    n_init = 10,\n",
    "    max_iter = 300,\n",
    "    random_state = 42)"
   ]
  },
  {
   "cell_type": "code",
   "execution_count": 8,
   "id": "e07244bc-7973-4450-af53-e87964393efa",
   "metadata": {},
   "outputs": [
    {
     "name": "stderr",
     "output_type": "stream",
     "text": [
      "C:\\Users\\joan.nigorra\\Anaconda3\\envs\\caixabank\\lib\\site-packages\\sklearn\\cluster\\_kmeans.py:1332: UserWarning: KMeans is known to have a memory leak on Windows with MKL, when there are less chunks than available threads. You can avoid it by setting the environment variable OMP_NUM_THREADS=1.\n",
      "  warnings.warn(\n"
     ]
    },
    {
     "data": {
      "text/html": [
       "<style>#sk-container-id-1 {color: black;background-color: white;}#sk-container-id-1 pre{padding: 0;}#sk-container-id-1 div.sk-toggleable {background-color: white;}#sk-container-id-1 label.sk-toggleable__label {cursor: pointer;display: block;width: 100%;margin-bottom: 0;padding: 0.3em;box-sizing: border-box;text-align: center;}#sk-container-id-1 label.sk-toggleable__label-arrow:before {content: \"▸\";float: left;margin-right: 0.25em;color: #696969;}#sk-container-id-1 label.sk-toggleable__label-arrow:hover:before {color: black;}#sk-container-id-1 div.sk-estimator:hover label.sk-toggleable__label-arrow:before {color: black;}#sk-container-id-1 div.sk-toggleable__content {max-height: 0;max-width: 0;overflow: hidden;text-align: left;background-color: #f0f8ff;}#sk-container-id-1 div.sk-toggleable__content pre {margin: 0.2em;color: black;border-radius: 0.25em;background-color: #f0f8ff;}#sk-container-id-1 input.sk-toggleable__control:checked~div.sk-toggleable__content {max-height: 200px;max-width: 100%;overflow: auto;}#sk-container-id-1 input.sk-toggleable__control:checked~label.sk-toggleable__label-arrow:before {content: \"▾\";}#sk-container-id-1 div.sk-estimator input.sk-toggleable__control:checked~label.sk-toggleable__label {background-color: #d4ebff;}#sk-container-id-1 div.sk-label input.sk-toggleable__control:checked~label.sk-toggleable__label {background-color: #d4ebff;}#sk-container-id-1 input.sk-hidden--visually {border: 0;clip: rect(1px 1px 1px 1px);clip: rect(1px, 1px, 1px, 1px);height: 1px;margin: -1px;overflow: hidden;padding: 0;position: absolute;width: 1px;}#sk-container-id-1 div.sk-estimator {font-family: monospace;background-color: #f0f8ff;border: 1px dotted black;border-radius: 0.25em;box-sizing: border-box;margin-bottom: 0.5em;}#sk-container-id-1 div.sk-estimator:hover {background-color: #d4ebff;}#sk-container-id-1 div.sk-parallel-item::after {content: \"\";width: 100%;border-bottom: 1px solid gray;flex-grow: 1;}#sk-container-id-1 div.sk-label:hover label.sk-toggleable__label {background-color: #d4ebff;}#sk-container-id-1 div.sk-serial::before {content: \"\";position: absolute;border-left: 1px solid gray;box-sizing: border-box;top: 0;bottom: 0;left: 50%;z-index: 0;}#sk-container-id-1 div.sk-serial {display: flex;flex-direction: column;align-items: center;background-color: white;padding-right: 0.2em;padding-left: 0.2em;position: relative;}#sk-container-id-1 div.sk-item {position: relative;z-index: 1;}#sk-container-id-1 div.sk-parallel {display: flex;align-items: stretch;justify-content: center;background-color: white;position: relative;}#sk-container-id-1 div.sk-item::before, #sk-container-id-1 div.sk-parallel-item::before {content: \"\";position: absolute;border-left: 1px solid gray;box-sizing: border-box;top: 0;bottom: 0;left: 50%;z-index: -1;}#sk-container-id-1 div.sk-parallel-item {display: flex;flex-direction: column;z-index: 1;position: relative;background-color: white;}#sk-container-id-1 div.sk-parallel-item:first-child::after {align-self: flex-end;width: 50%;}#sk-container-id-1 div.sk-parallel-item:last-child::after {align-self: flex-start;width: 50%;}#sk-container-id-1 div.sk-parallel-item:only-child::after {width: 0;}#sk-container-id-1 div.sk-dashed-wrapped {border: 1px dashed gray;margin: 0 0.4em 0.5em 0.4em;box-sizing: border-box;padding-bottom: 0.4em;background-color: white;}#sk-container-id-1 div.sk-label label {font-family: monospace;font-weight: bold;display: inline-block;line-height: 1.2em;}#sk-container-id-1 div.sk-label-container {text-align: center;}#sk-container-id-1 div.sk-container {/* jupyter's `normalize.less` sets `[hidden] { display: none; }` but bootstrap.min.css set `[hidden] { display: none !important; }` so we also need the `!important` here to be able to override the default hidden behavior on the sphinx rendered scikit-learn.org. See: https://github.com/scikit-learn/scikit-learn/issues/21755 */display: inline-block !important;position: relative;}#sk-container-id-1 div.sk-text-repr-fallback {display: none;}</style><div id=\"sk-container-id-1\" class=\"sk-top-container\"><div class=\"sk-text-repr-fallback\"><pre>KMeans(init=&#x27;random&#x27;, n_clusters=2, random_state=42)</pre><b>In a Jupyter environment, please rerun this cell to show the HTML representation or trust the notebook. <br />On GitHub, the HTML representation is unable to render, please try loading this page with nbviewer.org.</b></div><div class=\"sk-container\" hidden><div class=\"sk-item\"><div class=\"sk-estimator sk-toggleable\"><input class=\"sk-toggleable__control sk-hidden--visually\" id=\"sk-estimator-id-1\" type=\"checkbox\" checked><label for=\"sk-estimator-id-1\" class=\"sk-toggleable__label sk-toggleable__label-arrow\">KMeans</label><div class=\"sk-toggleable__content\"><pre>KMeans(init=&#x27;random&#x27;, n_clusters=2, random_state=42)</pre></div></div></div></div></div>"
      ],
      "text/plain": [
       "KMeans(init='random', n_clusters=2, random_state=42)"
      ]
     },
     "execution_count": 8,
     "metadata": {},
     "output_type": "execute_result"
    }
   ],
   "source": [
    "kmeans.fit(scaled_features)"
   ]
  },
  {
   "cell_type": "code",
   "execution_count": 11,
   "id": "f06943a1-57be-4b10-9e64-c45cd7ce96c7",
   "metadata": {},
   "outputs": [
    {
     "data": {
      "text/plain": [
       "129.38411431893388"
      ]
     },
     "execution_count": 11,
     "metadata": {},
     "output_type": "execute_result"
    }
   ],
   "source": [
    "# The lowest SSE value\n",
    "kmeans.inertia_"
   ]
  },
  {
   "cell_type": "code",
   "execution_count": 12,
   "id": "40af7fd3-ce5e-402d-addc-65d70b2a8d53",
   "metadata": {},
   "outputs": [
    {
     "data": {
      "text/plain": [
       "array([[-0.7929145 ,  0.80345869],\n",
       "       [ 0.84196076, -0.85315717]])"
      ]
     },
     "execution_count": 12,
     "metadata": {},
     "output_type": "execute_result"
    }
   ],
   "source": [
    "# Final locations of the centroid\n",
    "kmeans.cluster_centers_"
   ]
  },
  {
   "cell_type": "code",
   "execution_count": 13,
   "id": "3df4102c-3ac9-4791-82e4-a14085f15f95",
   "metadata": {},
   "outputs": [
    {
     "data": {
      "text/plain": [
       "4"
      ]
     },
     "execution_count": 13,
     "metadata": {},
     "output_type": "execute_result"
    }
   ],
   "source": [
    "# The number of iterations required to converge\n",
    "kmeans.n_iter_"
   ]
  },
  {
   "cell_type": "code",
   "execution_count": 14,
   "id": "dc92f352-fff1-4fa9-ba59-a9c2d2424f98",
   "metadata": {},
   "outputs": [
    {
     "data": {
      "text/plain": [
       "array([1, 1, 1, 0, 1])"
      ]
     },
     "execution_count": 14,
     "metadata": {},
     "output_type": "execute_result"
    }
   ],
   "source": [
    "kmeans.labels_[:5]"
   ]
  },
  {
   "cell_type": "code",
   "execution_count": 17,
   "id": "cf15f16d-3c48-4874-9b09-c3a6345ba0b7",
   "metadata": {},
   "outputs": [
    {
     "name": "stderr",
     "output_type": "stream",
     "text": [
      "C:\\Users\\joan.nigorra\\Anaconda3\\envs\\caixabank\\lib\\site-packages\\sklearn\\cluster\\_kmeans.py:1332: UserWarning: KMeans is known to have a memory leak on Windows with MKL, when there are less chunks than available threads. You can avoid it by setting the environment variable OMP_NUM_THREADS=1.\n",
      "  warnings.warn(\n",
      "C:\\Users\\joan.nigorra\\Anaconda3\\envs\\caixabank\\lib\\site-packages\\sklearn\\cluster\\_kmeans.py:1332: UserWarning: KMeans is known to have a memory leak on Windows with MKL, when there are less chunks than available threads. You can avoid it by setting the environment variable OMP_NUM_THREADS=1.\n",
      "  warnings.warn(\n",
      "C:\\Users\\joan.nigorra\\Anaconda3\\envs\\caixabank\\lib\\site-packages\\sklearn\\cluster\\_kmeans.py:1332: UserWarning: KMeans is known to have a memory leak on Windows with MKL, when there are less chunks than available threads. You can avoid it by setting the environment variable OMP_NUM_THREADS=1.\n",
      "  warnings.warn(\n",
      "C:\\Users\\joan.nigorra\\Anaconda3\\envs\\caixabank\\lib\\site-packages\\sklearn\\cluster\\_kmeans.py:1332: UserWarning: KMeans is known to have a memory leak on Windows with MKL, when there are less chunks than available threads. You can avoid it by setting the environment variable OMP_NUM_THREADS=1.\n",
      "  warnings.warn(\n",
      "C:\\Users\\joan.nigorra\\Anaconda3\\envs\\caixabank\\lib\\site-packages\\sklearn\\cluster\\_kmeans.py:1332: UserWarning: KMeans is known to have a memory leak on Windows with MKL, when there are less chunks than available threads. You can avoid it by setting the environment variable OMP_NUM_THREADS=1.\n",
      "  warnings.warn(\n",
      "C:\\Users\\joan.nigorra\\Anaconda3\\envs\\caixabank\\lib\\site-packages\\sklearn\\cluster\\_kmeans.py:1332: UserWarning: KMeans is known to have a memory leak on Windows with MKL, when there are less chunks than available threads. You can avoid it by setting the environment variable OMP_NUM_THREADS=1.\n",
      "  warnings.warn(\n",
      "C:\\Users\\joan.nigorra\\Anaconda3\\envs\\caixabank\\lib\\site-packages\\sklearn\\cluster\\_kmeans.py:1332: UserWarning: KMeans is known to have a memory leak on Windows with MKL, when there are less chunks than available threads. You can avoid it by setting the environment variable OMP_NUM_THREADS=1.\n",
      "  warnings.warn(\n",
      "C:\\Users\\joan.nigorra\\Anaconda3\\envs\\caixabank\\lib\\site-packages\\sklearn\\cluster\\_kmeans.py:1332: UserWarning: KMeans is known to have a memory leak on Windows with MKL, when there are less chunks than available threads. You can avoid it by setting the environment variable OMP_NUM_THREADS=1.\n",
      "  warnings.warn(\n",
      "C:\\Users\\joan.nigorra\\Anaconda3\\envs\\caixabank\\lib\\site-packages\\sklearn\\cluster\\_kmeans.py:1332: UserWarning: KMeans is known to have a memory leak on Windows with MKL, when there are less chunks than available threads. You can avoid it by setting the environment variable OMP_NUM_THREADS=1.\n",
      "  warnings.warn(\n",
      "C:\\Users\\joan.nigorra\\Anaconda3\\envs\\caixabank\\lib\\site-packages\\sklearn\\cluster\\_kmeans.py:1332: UserWarning: KMeans is known to have a memory leak on Windows with MKL, when there are less chunks than available threads. You can avoid it by setting the environment variable OMP_NUM_THREADS=1.\n",
      "  warnings.warn(\n"
     ]
    }
   ],
   "source": [
    "kmeans_kwargs = {\n",
    "    \"init\": \"random\", \n",
    "    \"n_init\": 10,\n",
    "    \"max_iter\": 300,\n",
    "    \"random_state\": 42,}\n",
    "\n",
    "# A list holds the SSE values for each k\n",
    "sse = []\n",
    "for k in range(1, 11):\n",
    "    kmeans = KMeans(n_clusters=k, **kmeans_kwargs)\n",
    "    kmeans.fit(scaled_features)\n",
    "    sse.append(kmeans.inertia_)"
   ]
  },
  {
   "cell_type": "code",
   "execution_count": 20,
   "id": "42f8d800-62dc-48b1-99d0-5e9b175b1fb0",
   "metadata": {},
   "outputs": [
    {
     "data": {
      "image/png": "[encoded data removed]",
      "text/plain": [
       "<Figure size 432x288 with 1 Axes>"
      ]
     },
     "metadata": {
      "needs_background": "light"
     },
     "output_type": "display_data"
    }
   ],
   "source": [
    "plt.style.use(\"fivethirtyeight\")\n",
    "plt.plot(range(1, 11), sse)\n",
    "plt.xticks(range(1, 11))\n",
    "plt.xlabel(\"Number of Clusters\")\n",
    "plt.ylabel(\"SSE\")\n",
    "plt.show()"
   ]
  },
  {
   "cell_type": "markdown",
   "id": "c4fcee9c-1357-4ce0-96b5-bceba0b4aa3b",
   "metadata": {},
   "source": [
    "Kmeans podría funcionar, porque nos da 2 clusters, que es lo que queremos, que diferencie binario 1 y 0. (No tengo tiempo para mas)"
   ]
  }
 ],
 "metadata": {
  "kernelspec": {
   "display_name": "Python 3 (ipykernel)",
   "language": "python",
   "name": "python3"
  },
  "language_info": {
   "codemirror_mode": {
    "name": "ipython",
    "version": 3
   },
   "file_extension": ".py",
   "mimetype": "text/x-python",
   "name": "python",
   "nbconvert_exporter": "python",
   "pygments_lexer": "ipython3",
   "version": "3.9.12"
  }
 },
 "nbformat": 4,
 "nbformat_minor": 5
}
